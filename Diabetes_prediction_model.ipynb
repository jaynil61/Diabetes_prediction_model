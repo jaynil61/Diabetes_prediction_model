{
 "cells": [
  {
   "cell_type": "markdown",
   "id": "cfaaa6d1",
   "metadata": {},
   "source": [
    "# Diabetes Prediction Model                      \n",
    "## - Jaynil Patel"
   ]
  },
  {
   "cell_type": "markdown",
   "id": "939055c9",
   "metadata": {},
   "source": [
    "<img src='dbts_prediction_2.jpg' style=\"width:1000px;height:400px\"/>"
   ]
  },
  {
   "cell_type": "code",
   "execution_count": 150,
   "id": "0424f81e",
   "metadata": {
    "scrolled": true
   },
   "outputs": [],
   "source": [
    "# Importing required libraries.\n",
    "\n",
    "import pandas as pd\n",
    "import numpy as np\n",
    "\n",
    "import matplotlib.pyplot as plt\n",
    "import seaborn as sns\n",
    "\n",
    "import sklearn\n",
    "from sklearn import preprocessing\n",
    "from sklearn.model_selection import train_test_split\n",
    "from sklearn import svm\n",
    "from sklearn.svm import SVC\n",
    "from sklearn.svm import LinearSVC\n",
    "from sklearn.metrics import accuracy_score, precision_score, recall_score, f1_score, confusion_matrix"
   ]
  },
  {
   "cell_type": "code",
   "execution_count": 151,
   "id": "51c6df8c",
   "metadata": {},
   "outputs": [],
   "source": [
    "# Loading the data into DataFrame from csv file.\n",
    "\n",
    "data = pd.read_csv('diabetes.csv')"
   ]
  },
  {
   "cell_type": "code",
   "execution_count": 152,
   "id": "309f0baa",
   "metadata": {},
   "outputs": [
    {
     "data": {
      "text/html": [
       "<div>\n",
       "<style scoped>\n",
       "    .dataframe tbody tr th:only-of-type {\n",
       "        vertical-align: middle;\n",
       "    }\n",
       "\n",
       "    .dataframe tbody tr th {\n",
       "        vertical-align: top;\n",
       "    }\n",
       "\n",
       "    .dataframe thead th {\n",
       "        text-align: right;\n",
       "    }\n",
       "</style>\n",
       "<table border=\"1\" class=\"dataframe\">\n",
       "  <thead>\n",
       "    <tr style=\"text-align: right;\">\n",
       "      <th></th>\n",
       "      <th>Pregnancies</th>\n",
       "      <th>Glucose</th>\n",
       "      <th>BloodPressure</th>\n",
       "      <th>SkinThickness</th>\n",
       "      <th>Insulin</th>\n",
       "      <th>BMI</th>\n",
       "      <th>DiabetesPedigreeFunction</th>\n",
       "      <th>Age</th>\n",
       "      <th>Outcome</th>\n",
       "    </tr>\n",
       "  </thead>\n",
       "  <tbody>\n",
       "    <tr>\n",
       "      <th>185</th>\n",
       "      <td>7</td>\n",
       "      <td>194</td>\n",
       "      <td>68</td>\n",
       "      <td>28</td>\n",
       "      <td>0</td>\n",
       "      <td>35.9</td>\n",
       "      <td>0.745</td>\n",
       "      <td>41</td>\n",
       "      <td>1</td>\n",
       "    </tr>\n",
       "    <tr>\n",
       "      <th>69</th>\n",
       "      <td>4</td>\n",
       "      <td>146</td>\n",
       "      <td>85</td>\n",
       "      <td>27</td>\n",
       "      <td>100</td>\n",
       "      <td>28.9</td>\n",
       "      <td>0.189</td>\n",
       "      <td>27</td>\n",
       "      <td>0</td>\n",
       "    </tr>\n",
       "    <tr>\n",
       "      <th>197</th>\n",
       "      <td>3</td>\n",
       "      <td>107</td>\n",
       "      <td>62</td>\n",
       "      <td>13</td>\n",
       "      <td>48</td>\n",
       "      <td>22.9</td>\n",
       "      <td>0.678</td>\n",
       "      <td>23</td>\n",
       "      <td>1</td>\n",
       "    </tr>\n",
       "    <tr>\n",
       "      <th>381</th>\n",
       "      <td>0</td>\n",
       "      <td>105</td>\n",
       "      <td>68</td>\n",
       "      <td>22</td>\n",
       "      <td>0</td>\n",
       "      <td>20.0</td>\n",
       "      <td>0.236</td>\n",
       "      <td>22</td>\n",
       "      <td>0</td>\n",
       "    </tr>\n",
       "    <tr>\n",
       "      <th>202</th>\n",
       "      <td>0</td>\n",
       "      <td>108</td>\n",
       "      <td>68</td>\n",
       "      <td>20</td>\n",
       "      <td>0</td>\n",
       "      <td>27.3</td>\n",
       "      <td>0.787</td>\n",
       "      <td>32</td>\n",
       "      <td>0</td>\n",
       "    </tr>\n",
       "  </tbody>\n",
       "</table>\n",
       "</div>"
      ],
      "text/plain": [
       "     Pregnancies  Glucose  BloodPressure  SkinThickness  Insulin   BMI  \\\n",
       "185            7      194             68             28        0  35.9   \n",
       "69             4      146             85             27      100  28.9   \n",
       "197            3      107             62             13       48  22.9   \n",
       "381            0      105             68             22        0  20.0   \n",
       "202            0      108             68             20        0  27.3   \n",
       "\n",
       "     DiabetesPedigreeFunction  Age  Outcome  \n",
       "185                     0.745   41        1  \n",
       "69                      0.189   27        0  \n",
       "197                     0.678   23        1  \n",
       "381                     0.236   22        0  \n",
       "202                     0.787   32        0  "
      ]
     },
     "execution_count": 152,
     "metadata": {},
     "output_type": "execute_result"
    }
   ],
   "source": [
    "data.sample(5)"
   ]
  },
  {
   "cell_type": "code",
   "execution_count": 153,
   "id": "386f1bf4",
   "metadata": {},
   "outputs": [
    {
     "name": "stdout",
     "output_type": "stream",
     "text": [
      "<class 'pandas.core.frame.DataFrame'>\n",
      "RangeIndex: 768 entries, 0 to 767\n",
      "Data columns (total 9 columns):\n",
      " #   Column                    Non-Null Count  Dtype  \n",
      "---  ------                    --------------  -----  \n",
      " 0   Pregnancies               768 non-null    int64  \n",
      " 1   Glucose                   768 non-null    int64  \n",
      " 2   BloodPressure             768 non-null    int64  \n",
      " 3   SkinThickness             768 non-null    int64  \n",
      " 4   Insulin                   768 non-null    int64  \n",
      " 5   BMI                       768 non-null    float64\n",
      " 6   DiabetesPedigreeFunction  768 non-null    float64\n",
      " 7   Age                       768 non-null    int64  \n",
      " 8   Outcome                   768 non-null    int64  \n",
      "dtypes: float64(2), int64(7)\n",
      "memory usage: 54.1 KB\n"
     ]
    }
   ],
   "source": [
    "# Checking the basic information about the dataset, including data types and non-null counts.\n",
    "\n",
    "data.info()"
   ]
  },
  {
   "cell_type": "code",
   "execution_count": 154,
   "id": "ab3e8424",
   "metadata": {},
   "outputs": [
    {
     "data": {
      "text/html": [
       "<div>\n",
       "<style scoped>\n",
       "    .dataframe tbody tr th:only-of-type {\n",
       "        vertical-align: middle;\n",
       "    }\n",
       "\n",
       "    .dataframe tbody tr th {\n",
       "        vertical-align: top;\n",
       "    }\n",
       "\n",
       "    .dataframe thead th {\n",
       "        text-align: right;\n",
       "    }\n",
       "</style>\n",
       "<table border=\"1\" class=\"dataframe\">\n",
       "  <thead>\n",
       "    <tr style=\"text-align: right;\">\n",
       "      <th></th>\n",
       "      <th>Pregnancies</th>\n",
       "      <th>Glucose</th>\n",
       "      <th>BloodPressure</th>\n",
       "      <th>SkinThickness</th>\n",
       "      <th>Insulin</th>\n",
       "      <th>BMI</th>\n",
       "      <th>DiabetesPedigreeFunction</th>\n",
       "      <th>Age</th>\n",
       "      <th>Outcome</th>\n",
       "    </tr>\n",
       "  </thead>\n",
       "  <tbody>\n",
       "    <tr>\n",
       "      <th>count</th>\n",
       "      <td>768.000000</td>\n",
       "      <td>768.000000</td>\n",
       "      <td>768.000000</td>\n",
       "      <td>768.000000</td>\n",
       "      <td>768.000000</td>\n",
       "      <td>768.000000</td>\n",
       "      <td>768.000000</td>\n",
       "      <td>768.000000</td>\n",
       "      <td>768.000000</td>\n",
       "    </tr>\n",
       "    <tr>\n",
       "      <th>mean</th>\n",
       "      <td>3.845052</td>\n",
       "      <td>120.894531</td>\n",
       "      <td>69.105469</td>\n",
       "      <td>20.536458</td>\n",
       "      <td>79.799479</td>\n",
       "      <td>31.992578</td>\n",
       "      <td>0.471876</td>\n",
       "      <td>33.240885</td>\n",
       "      <td>0.348958</td>\n",
       "    </tr>\n",
       "    <tr>\n",
       "      <th>std</th>\n",
       "      <td>3.369578</td>\n",
       "      <td>31.972618</td>\n",
       "      <td>19.355807</td>\n",
       "      <td>15.952218</td>\n",
       "      <td>115.244002</td>\n",
       "      <td>7.884160</td>\n",
       "      <td>0.331329</td>\n",
       "      <td>11.760232</td>\n",
       "      <td>0.476951</td>\n",
       "    </tr>\n",
       "    <tr>\n",
       "      <th>min</th>\n",
       "      <td>0.000000</td>\n",
       "      <td>0.000000</td>\n",
       "      <td>0.000000</td>\n",
       "      <td>0.000000</td>\n",
       "      <td>0.000000</td>\n",
       "      <td>0.000000</td>\n",
       "      <td>0.078000</td>\n",
       "      <td>21.000000</td>\n",
       "      <td>0.000000</td>\n",
       "    </tr>\n",
       "    <tr>\n",
       "      <th>25%</th>\n",
       "      <td>1.000000</td>\n",
       "      <td>99.000000</td>\n",
       "      <td>62.000000</td>\n",
       "      <td>0.000000</td>\n",
       "      <td>0.000000</td>\n",
       "      <td>27.300000</td>\n",
       "      <td>0.243750</td>\n",
       "      <td>24.000000</td>\n",
       "      <td>0.000000</td>\n",
       "    </tr>\n",
       "    <tr>\n",
       "      <th>50%</th>\n",
       "      <td>3.000000</td>\n",
       "      <td>117.000000</td>\n",
       "      <td>72.000000</td>\n",
       "      <td>23.000000</td>\n",
       "      <td>30.500000</td>\n",
       "      <td>32.000000</td>\n",
       "      <td>0.372500</td>\n",
       "      <td>29.000000</td>\n",
       "      <td>0.000000</td>\n",
       "    </tr>\n",
       "    <tr>\n",
       "      <th>75%</th>\n",
       "      <td>6.000000</td>\n",
       "      <td>140.250000</td>\n",
       "      <td>80.000000</td>\n",
       "      <td>32.000000</td>\n",
       "      <td>127.250000</td>\n",
       "      <td>36.600000</td>\n",
       "      <td>0.626250</td>\n",
       "      <td>41.000000</td>\n",
       "      <td>1.000000</td>\n",
       "    </tr>\n",
       "    <tr>\n",
       "      <th>max</th>\n",
       "      <td>17.000000</td>\n",
       "      <td>199.000000</td>\n",
       "      <td>122.000000</td>\n",
       "      <td>99.000000</td>\n",
       "      <td>846.000000</td>\n",
       "      <td>67.100000</td>\n",
       "      <td>2.420000</td>\n",
       "      <td>81.000000</td>\n",
       "      <td>1.000000</td>\n",
       "    </tr>\n",
       "  </tbody>\n",
       "</table>\n",
       "</div>"
      ],
      "text/plain": [
       "       Pregnancies     Glucose  BloodPressure  SkinThickness     Insulin  \\\n",
       "count   768.000000  768.000000     768.000000     768.000000  768.000000   \n",
       "mean      3.845052  120.894531      69.105469      20.536458   79.799479   \n",
       "std       3.369578   31.972618      19.355807      15.952218  115.244002   \n",
       "min       0.000000    0.000000       0.000000       0.000000    0.000000   \n",
       "25%       1.000000   99.000000      62.000000       0.000000    0.000000   \n",
       "50%       3.000000  117.000000      72.000000      23.000000   30.500000   \n",
       "75%       6.000000  140.250000      80.000000      32.000000  127.250000   \n",
       "max      17.000000  199.000000     122.000000      99.000000  846.000000   \n",
       "\n",
       "              BMI  DiabetesPedigreeFunction         Age     Outcome  \n",
       "count  768.000000                768.000000  768.000000  768.000000  \n",
       "mean    31.992578                  0.471876   33.240885    0.348958  \n",
       "std      7.884160                  0.331329   11.760232    0.476951  \n",
       "min      0.000000                  0.078000   21.000000    0.000000  \n",
       "25%     27.300000                  0.243750   24.000000    0.000000  \n",
       "50%     32.000000                  0.372500   29.000000    0.000000  \n",
       "75%     36.600000                  0.626250   41.000000    1.000000  \n",
       "max     67.100000                  2.420000   81.000000    1.000000  "
      ]
     },
     "execution_count": 154,
     "metadata": {},
     "output_type": "execute_result"
    }
   ],
   "source": [
    "# Analysing descriptive statistics for each column in the dataset.\n",
    "\n",
    "data.describe()"
   ]
  },
  {
   "cell_type": "code",
   "execution_count": 155,
   "id": "85304571",
   "metadata": {},
   "outputs": [
    {
     "data": {
      "text/plain": [
       "0"
      ]
     },
     "execution_count": 155,
     "metadata": {},
     "output_type": "execute_result"
    }
   ],
   "source": [
    "# Checking for the duplicate rows\n",
    "\n",
    "data.duplicated().sum()"
   ]
  },
  {
   "cell_type": "code",
   "execution_count": 156,
   "id": "e0f451d4",
   "metadata": {},
   "outputs": [
    {
     "data": {
      "text/plain": [
       "<AxesSubplot:>"
      ]
     },
     "execution_count": 156,
     "metadata": {},
     "output_type": "execute_result"
    },
    {
     "data": {
      "image/png": "[encoded data removed]",
      "text/plain": [
       "<Figure size 432x288 with 2 Axes>"
      ]
     },
     "metadata": {
      "needs_background": "light"
     },
     "output_type": "display_data"
    }
   ],
   "source": [
    "# Checking for the correalation between the columns.\n",
    "\n",
    "correalation_matrix = data.corr()\n",
    "sns.heatmap(correalation_matrix)"
   ]
  },
  {
   "cell_type": "code",
   "execution_count": 157,
   "id": "e43dc011",
   "metadata": {},
   "outputs": [],
   "source": [
    "# Droping the columns that are not required for the analysis.\n",
    "\n",
    "data = data.drop(['BloodPressure', 'Insulin', 'DiabetesPedigreeFunction'], axis = 1)"
   ]
  },
  {
   "cell_type": "code",
   "execution_count": 158,
   "id": "c9cfeed3",
   "metadata": {},
   "outputs": [
    {
     "data": {
      "text/html": [
       "<div>\n",
       "<style scoped>\n",
       "    .dataframe tbody tr th:only-of-type {\n",
       "        vertical-align: middle;\n",
       "    }\n",
       "\n",
       "    .dataframe tbody tr th {\n",
       "        vertical-align: top;\n",
       "    }\n",
       "\n",
       "    .dataframe thead th {\n",
       "        text-align: right;\n",
       "    }\n",
       "</style>\n",
       "<table border=\"1\" class=\"dataframe\">\n",
       "  <thead>\n",
       "    <tr style=\"text-align: right;\">\n",
       "      <th></th>\n",
       "      <th>Pregnancies</th>\n",
       "      <th>Glucose</th>\n",
       "      <th>SkinThickness</th>\n",
       "      <th>BMI</th>\n",
       "      <th>Age</th>\n",
       "      <th>Outcome</th>\n",
       "    </tr>\n",
       "  </thead>\n",
       "  <tbody>\n",
       "    <tr>\n",
       "      <th>0</th>\n",
       "      <td>6</td>\n",
       "      <td>148</td>\n",
       "      <td>35</td>\n",
       "      <td>33.6</td>\n",
       "      <td>50</td>\n",
       "      <td>1</td>\n",
       "    </tr>\n",
       "    <tr>\n",
       "      <th>1</th>\n",
       "      <td>1</td>\n",
       "      <td>85</td>\n",
       "      <td>29</td>\n",
       "      <td>26.6</td>\n",
       "      <td>31</td>\n",
       "      <td>0</td>\n",
       "    </tr>\n",
       "    <tr>\n",
       "      <th>2</th>\n",
       "      <td>8</td>\n",
       "      <td>183</td>\n",
       "      <td>0</td>\n",
       "      <td>23.3</td>\n",
       "      <td>32</td>\n",
       "      <td>1</td>\n",
       "    </tr>\n",
       "    <tr>\n",
       "      <th>3</th>\n",
       "      <td>1</td>\n",
       "      <td>89</td>\n",
       "      <td>23</td>\n",
       "      <td>28.1</td>\n",
       "      <td>21</td>\n",
       "      <td>0</td>\n",
       "    </tr>\n",
       "    <tr>\n",
       "      <th>4</th>\n",
       "      <td>0</td>\n",
       "      <td>137</td>\n",
       "      <td>35</td>\n",
       "      <td>43.1</td>\n",
       "      <td>33</td>\n",
       "      <td>1</td>\n",
       "    </tr>\n",
       "  </tbody>\n",
       "</table>\n",
       "</div>"
      ],
      "text/plain": [
       "   Pregnancies  Glucose  SkinThickness   BMI  Age  Outcome\n",
       "0            6      148             35  33.6   50        1\n",
       "1            1       85             29  26.6   31        0\n",
       "2            8      183              0  23.3   32        1\n",
       "3            1       89             23  28.1   21        0\n",
       "4            0      137             35  43.1   33        1"
      ]
     },
     "execution_count": 158,
     "metadata": {},
     "output_type": "execute_result"
    }
   ],
   "source": [
    "data.head()"
   ]
  },
  {
   "cell_type": "code",
   "execution_count": 159,
   "id": "440102bb",
   "metadata": {},
   "outputs": [
    {
     "name": "stdout",
     "output_type": "stream",
     "text": [
      "['Pregnancies', 'Glucose', 'SkinThickness', 'BMI', 'Outcome']\n"
     ]
    }
   ],
   "source": [
    "# Checking for the columns with Zero values.\n",
    "\n",
    "columns_with_zeros = data.columns[(data == 0).sum()>0]\n",
    "print(list(columns_with_zeros))"
   ]
  },
  {
   "cell_type": "code",
   "execution_count": 160,
   "id": "6a4e76b6",
   "metadata": {},
   "outputs": [
    {
     "name": "stdout",
     "output_type": "stream",
     "text": [
      "Pregnancies      111\n",
      "Glucose            5\n",
      "SkinThickness    227\n",
      "BMI               11\n",
      "Age                0\n",
      "dtype: int64\n"
     ]
    }
   ],
   "source": [
    "# Checking for the number of Zero values each column has.\n",
    "\n",
    "zero_count = (data.drop(columns='Outcome') == 0).sum()\n",
    "print(zero_count)"
   ]
  },
  {
   "cell_type": "markdown",
   "id": "85719cb6",
   "metadata": {},
   "source": [
    "As we can see, 4 out of 5 input columns are having zero values. However, we are not going to fill each zero value as some columns can have genuine zero values. (e.g. Pregnancies and Glucose)\n",
    "\n",
    "The SkinThickness column is having the maximum and significant number of zero values. Moreover, it is not feasible for a BMI column to have zero values.\n",
    "Hence, we are going to replace them with mean values of those respective columns."
   ]
  },
  {
   "cell_type": "code",
   "execution_count": 161,
   "id": "12cf939c",
   "metadata": {},
   "outputs": [],
   "source": [
    "data['SkinThickness'] = data['SkinThickness'].replace(0, np.nan)\n",
    "data['SkinThickness'] = data['SkinThickness'].fillna(data['SkinThickness'].mean())\n",
    "\n",
    "data['BMI'] = data['BMI'].replace(0, np.nan)\n",
    "data['BMI'] = data['BMI'].fillna(data['BMI'].mean())"
   ]
  },
  {
   "cell_type": "code",
   "execution_count": 162,
   "id": "531e3baf",
   "metadata": {},
   "outputs": [
    {
     "name": "stdout",
     "output_type": "stream",
     "text": [
      "Pregnancies      111\n",
      "Glucose            5\n",
      "SkinThickness      0\n",
      "BMI                0\n",
      "Age                0\n",
      "dtype: int64\n"
     ]
    }
   ],
   "source": [
    "zero_count2 = (data.drop(columns='Outcome') == 0).sum()\n",
    "print(zero_count2)"
   ]
  },
  {
   "cell_type": "markdown",
   "id": "f2ae63b9",
   "metadata": {},
   "source": [
    "### Plotting the distribution of each column"
   ]
  },
  {
   "cell_type": "code",
   "execution_count": 163,
   "id": "a89edb8c",
   "metadata": {},
   "outputs": [
    {
     "data": {
      "image/png": "[encoded data removed]",
      "text/plain": [
       "<Figure size 1080x1080 with 5 Axes>"
      ]
     },
     "metadata": {
      "needs_background": "light"
     },
     "output_type": "display_data"
    }
   ],
   "source": [
    "clmns = list(data.columns)[:-1]\n",
    "\n",
    "plt.figure(figsize=(15,15))\n",
    "for i , c in enumerate(clmns,1):\n",
    "    plt.subplot(3,2,i)\n",
    "    sns.histplot(data[c], kde = True)\n",
    "    plt.title(f'Distribution of {c}')\n",
    "    \n",
    "plt.tight_layout()\n",
    "plt.show()"
   ]
  },
  {
   "cell_type": "markdown",
   "id": "7d2f2d32",
   "metadata": {},
   "source": [
    "### Checking for outliers"
   ]
  },
  {
   "cell_type": "code",
   "execution_count": 164,
   "id": "e8a923c0",
   "metadata": {},
   "outputs": [
    {
     "data": {
      "image/png": "[encoded data removed]",
      "text/plain": [
       "<Figure size 1080x720 with 5 Axes>"
      ]
     },
     "metadata": {
      "needs_background": "light"
     },
     "output_type": "display_data"
    }
   ],
   "source": [
    "cls = list(data.columns[:-1])\n",
    "plt.figure(figsize=(15, 10))\n",
    "for i, c in enumerate(cls, 1):\n",
    "    plt.subplot(3,2,i)\n",
    "    sns.boxplot(x=data[c])\n",
    "    plt.title(f'Boxplot of {c}')\n",
    "    \n",
    "plt.tight_layout()\n",
    "plt.show()"
   ]
  },
  {
   "cell_type": "markdown",
   "id": "e4419b8f",
   "metadata": {},
   "source": [
    "### Preparing data for modeling"
   ]
  },
  {
   "cell_type": "code",
   "execution_count": 165,
   "id": "9339347e",
   "metadata": {},
   "outputs": [],
   "source": [
    "X = data.drop(['Outcome'], axis=1)\n",
    "y = data['Outcome']"
   ]
  },
  {
   "cell_type": "code",
   "execution_count": 166,
   "id": "abfd72a2",
   "metadata": {},
   "outputs": [
    {
     "data": {
      "text/html": [
       "<div>\n",
       "<style scoped>\n",
       "    .dataframe tbody tr th:only-of-type {\n",
       "        vertical-align: middle;\n",
       "    }\n",
       "\n",
       "    .dataframe tbody tr th {\n",
       "        vertical-align: top;\n",
       "    }\n",
       "\n",
       "    .dataframe thead th {\n",
       "        text-align: right;\n",
       "    }\n",
       "</style>\n",
       "<table border=\"1\" class=\"dataframe\">\n",
       "  <thead>\n",
       "    <tr style=\"text-align: right;\">\n",
       "      <th></th>\n",
       "      <th>Pregnancies</th>\n",
       "      <th>Glucose</th>\n",
       "      <th>SkinThickness</th>\n",
       "      <th>BMI</th>\n",
       "      <th>Age</th>\n",
       "    </tr>\n",
       "  </thead>\n",
       "  <tbody>\n",
       "    <tr>\n",
       "      <th>0</th>\n",
       "      <td>6</td>\n",
       "      <td>148</td>\n",
       "      <td>35.00000</td>\n",
       "      <td>33.6</td>\n",
       "      <td>50</td>\n",
       "    </tr>\n",
       "    <tr>\n",
       "      <th>1</th>\n",
       "      <td>1</td>\n",
       "      <td>85</td>\n",
       "      <td>29.00000</td>\n",
       "      <td>26.6</td>\n",
       "      <td>31</td>\n",
       "    </tr>\n",
       "    <tr>\n",
       "      <th>2</th>\n",
       "      <td>8</td>\n",
       "      <td>183</td>\n",
       "      <td>29.15342</td>\n",
       "      <td>23.3</td>\n",
       "      <td>32</td>\n",
       "    </tr>\n",
       "    <tr>\n",
       "      <th>3</th>\n",
       "      <td>1</td>\n",
       "      <td>89</td>\n",
       "      <td>23.00000</td>\n",
       "      <td>28.1</td>\n",
       "      <td>21</td>\n",
       "    </tr>\n",
       "    <tr>\n",
       "      <th>4</th>\n",
       "      <td>0</td>\n",
       "      <td>137</td>\n",
       "      <td>35.00000</td>\n",
       "      <td>43.1</td>\n",
       "      <td>33</td>\n",
       "    </tr>\n",
       "    <tr>\n",
       "      <th>...</th>\n",
       "      <td>...</td>\n",
       "      <td>...</td>\n",
       "      <td>...</td>\n",
       "      <td>...</td>\n",
       "      <td>...</td>\n",
       "    </tr>\n",
       "    <tr>\n",
       "      <th>763</th>\n",
       "      <td>10</td>\n",
       "      <td>101</td>\n",
       "      <td>48.00000</td>\n",
       "      <td>32.9</td>\n",
       "      <td>63</td>\n",
       "    </tr>\n",
       "    <tr>\n",
       "      <th>764</th>\n",
       "      <td>2</td>\n",
       "      <td>122</td>\n",
       "      <td>27.00000</td>\n",
       "      <td>36.8</td>\n",
       "      <td>27</td>\n",
       "    </tr>\n",
       "    <tr>\n",
       "      <th>765</th>\n",
       "      <td>5</td>\n",
       "      <td>121</td>\n",
       "      <td>23.00000</td>\n",
       "      <td>26.2</td>\n",
       "      <td>30</td>\n",
       "    </tr>\n",
       "    <tr>\n",
       "      <th>766</th>\n",
       "      <td>1</td>\n",
       "      <td>126</td>\n",
       "      <td>29.15342</td>\n",
       "      <td>30.1</td>\n",
       "      <td>47</td>\n",
       "    </tr>\n",
       "    <tr>\n",
       "      <th>767</th>\n",
       "      <td>1</td>\n",
       "      <td>93</td>\n",
       "      <td>31.00000</td>\n",
       "      <td>30.4</td>\n",
       "      <td>23</td>\n",
       "    </tr>\n",
       "  </tbody>\n",
       "</table>\n",
       "<p>768 rows × 5 columns</p>\n",
       "</div>"
      ],
      "text/plain": [
       "     Pregnancies  Glucose  SkinThickness   BMI  Age\n",
       "0              6      148       35.00000  33.6   50\n",
       "1              1       85       29.00000  26.6   31\n",
       "2              8      183       29.15342  23.3   32\n",
       "3              1       89       23.00000  28.1   21\n",
       "4              0      137       35.00000  43.1   33\n",
       "..           ...      ...            ...   ...  ...\n",
       "763           10      101       48.00000  32.9   63\n",
       "764            2      122       27.00000  36.8   27\n",
       "765            5      121       23.00000  26.2   30\n",
       "766            1      126       29.15342  30.1   47\n",
       "767            1       93       31.00000  30.4   23\n",
       "\n",
       "[768 rows x 5 columns]"
      ]
     },
     "execution_count": 166,
     "metadata": {},
     "output_type": "execute_result"
    }
   ],
   "source": [
    "X"
   ]
  },
  {
   "cell_type": "code",
   "execution_count": 167,
   "id": "c0ecb06f",
   "metadata": {},
   "outputs": [
    {
     "data": {
      "text/plain": [
       "0      1\n",
       "1      0\n",
       "2      1\n",
       "3      0\n",
       "4      1\n",
       "      ..\n",
       "763    0\n",
       "764    0\n",
       "765    0\n",
       "766    1\n",
       "767    0\n",
       "Name: Outcome, Length: 768, dtype: int64"
      ]
     },
     "execution_count": 167,
     "metadata": {},
     "output_type": "execute_result"
    }
   ],
   "source": [
    "y"
   ]
  },
  {
   "cell_type": "markdown",
   "id": "e9e835a8",
   "metadata": {},
   "source": [
    "### Scaling the features using StandardScaler"
   ]
  },
  {
   "cell_type": "code",
   "execution_count": 168,
   "id": "8bcab998",
   "metadata": {},
   "outputs": [
    {
     "data": {
      "text/plain": [
       "array([[ 6.39947260e-01,  8.48323795e-01,  6.65502121e-01,\n",
       "         1.66291742e-01,  1.42599540e+00],\n",
       "       [-8.44885053e-01, -1.12339636e+00, -1.74633816e-02,\n",
       "        -8.52531177e-01, -1.90671905e-01],\n",
       "       [ 1.23388019e+00,  1.94372388e+00,  8.08793628e-16,\n",
       "        -1.33283341e+00, -1.05584152e-01],\n",
       "       ...,\n",
       "       [ 3.42980797e-01,  3.30087080e-03, -7.00428884e-01,\n",
       "        -9.10749630e-01, -2.75759658e-01],\n",
       "       [-8.44885053e-01,  1.59786597e-01,  8.08793628e-16,\n",
       "        -3.43119717e-01,  1.17073215e+00],\n",
       "       [-8.44885053e-01, -8.73019198e-01,  2.10191786e-01,\n",
       "        -2.99455878e-01, -8.71373930e-01]])"
      ]
     },
     "execution_count": 168,
     "metadata": {},
     "output_type": "execute_result"
    }
   ],
   "source": [
    "ss = preprocessing.StandardScaler()\n",
    "X = ss.fit_transform(X)\n",
    "X"
   ]
  },
  {
   "cell_type": "markdown",
   "id": "2e636f2e",
   "metadata": {},
   "source": [
    "### Doing Train-Test split of 80-20 %"
   ]
  },
  {
   "cell_type": "code",
   "execution_count": 169,
   "id": "5fe14db1",
   "metadata": {},
   "outputs": [],
   "source": [
    "X_train, X_test, y_train, y_test = train_test_split(X, y, test_size=0.2)"
   ]
  },
  {
   "cell_type": "code",
   "execution_count": 170,
   "id": "d1d7f434",
   "metadata": {},
   "outputs": [
    {
     "name": "stdout",
     "output_type": "stream",
     "text": [
      "80.51948051948052\n"
     ]
    }
   ],
   "source": [
    "clf = svm.SVC(kernel='linear', degree=3)\n",
    "clf.fit(X_train, y_train)\n",
    "\n",
    "\n",
    "pred = clf.predict(X_test)\n",
    "a_score = accuracy_score(y_test, pred)\n",
    "print(a_score*100)"
   ]
  },
  {
   "cell_type": "markdown",
   "id": "6840cd3d",
   "metadata": {},
   "source": [
    "### Hyperparameter Tuning with Random State"
   ]
  },
  {
   "cell_type": "code",
   "execution_count": 171,
   "id": "cc65b8f1",
   "metadata": {},
   "outputs": [
    {
     "name": "stdout",
     "output_type": "stream",
     "text": [
      "Best random state: 395, Best accuracy: 86.4%\n"
     ]
    }
   ],
   "source": [
    "random_states = range(0, 400)  \n",
    "\n",
    "best_accuracy = 0\n",
    "best_random_state = None\n",
    "\n",
    "for state in random_states:\n",
    "    X_train, X_test, y_train, y_test = train_test_split(X, y, random_state=state, test_size=0.2)\n",
    "    \n",
    "    clf = svm.SVC(kernel='linear', degree=3) \n",
    "    clf.fit(X_train, y_train)\n",
    "    pred = clf.predict(X_test)\n",
    "    a_score = accuracy_score(y_test, pred)\n",
    "    \n",
    "    if a_score > best_accuracy:\n",
    "        best_accuracy = a_score\n",
    "        best_random_state = state\n",
    "\n",
    "print(f\"Best random state: {best_random_state}, Best accuracy: {best_accuracy*100:.1f}%\")"
   ]
  },
  {
   "cell_type": "markdown",
   "id": "d3714335",
   "metadata": {},
   "source": [
    "The best Random state is 395 with the accuracy of 86.4%. Hence we will train our final model with that."
   ]
  },
  {
   "cell_type": "code",
   "execution_count": 172,
   "id": "6ba72506",
   "metadata": {},
   "outputs": [
    {
     "data": {
      "text/plain": [
       "SVC(kernel='linear')"
      ]
     },
     "execution_count": 172,
     "metadata": {},
     "output_type": "execute_result"
    }
   ],
   "source": [
    "X_train, X_test, y_train, y_test = train_test_split(X, y, random_state=395, test_size=0.2)\n",
    "    \n",
    "clf = svm.SVC(kernel='linear', degree=3) \n",
    "clf.fit(X_train, y_train)"
   ]
  },
  {
   "cell_type": "markdown",
   "id": "2d7cd575",
   "metadata": {},
   "source": [
    "### A simple program to predict"
   ]
  },
  {
   "cell_type": "code",
   "execution_count": 173,
   "id": "27b7fc2d",
   "metadata": {},
   "outputs": [
    {
     "name": "stdout",
     "output_type": "stream",
     "text": [
      "Enter number of Pregnancies:2\n",
      "Enter Glucose level:140\n",
      "Enter SkinThickness:45\n",
      "Enter BMI:50\n",
      "Enter Age:40\n",
      "**************************************************\n",
      "   Pregnancies  Glucose  SkinThickness  BMI  Age\n",
      "0            2      140             45   50   40\n",
      "**************************************************\n",
      "\n",
      "\n",
      "Person has diabetes\n"
     ]
    }
   ],
   "source": [
    "prgs = eval(input('Enter number of Pregnancies:'))\n",
    "glu= eval(input('Enter Glucose level:'))\n",
    "st = eval(input('Enter SkinThickness:'))\n",
    "b = eval(input('Enter BMI:'))\n",
    "a = eval(input('Enter Age:'))\n",
    "input_data = [[prgs, glu, st, b, a]]\n",
    "df = pd.DataFrame(input_data, columns=['Pregnancies', 'Glucose', 'SkinThickness', 'BMI', 'Age'])\n",
    "print('*'*50)\n",
    "print(df)      \n",
    "t_data = ss.transform(df)\n",
    "new_pred = clf.predict(t_data)\n",
    "print('*'*50)\n",
    "print('\\n')\n",
    "if new_pred == [0]:\n",
    "    print('Person does not have diabetes')\n",
    "else:\n",
    "    print('Person has diabetes')"
   ]
  },
  {
   "cell_type": "markdown",
   "id": "3741f7d0",
   "metadata": {},
   "source": [
    "### Generating 'pkl' files for model deployment in production"
   ]
  },
  {
   "cell_type": "code",
   "execution_count": 174,
   "id": "74f8e10e",
   "metadata": {},
   "outputs": [
    {
     "data": {
      "text/plain": [
       "['scaler.pkl']"
      ]
     },
     "execution_count": 174,
     "metadata": {},
     "output_type": "execute_result"
    }
   ],
   "source": [
    "import joblib\n",
    "\n",
    "joblib.dump(clf, 'diabetes_prediction_model.pkl')  \n",
    "joblib.dump(ss, 'scaler.pkl')             "
   ]
  },
  {
   "cell_type": "code",
   "execution_count": null,
   "id": "58e6a7ff",
   "metadata": {},
   "outputs": [],
   "source": []
  }
 ],
 "metadata": {
  "kernelspec": {
   "display_name": "Python 3 (ipykernel)",
   "language": "python",
   "name": "python3"
  },
  "language_info": {
   "codemirror_mode": {
    "name": "ipython",
    "version": 3
   },
   "file_extension": ".py",
   "mimetype": "text/x-python",
   "name": "python",
   "nbconvert_exporter": "python",
   "pygments_lexer": "ipython3",
   "version": "3.9.12"
  }
 },
 "nbformat": 4,
 "nbformat_minor": 5
}
